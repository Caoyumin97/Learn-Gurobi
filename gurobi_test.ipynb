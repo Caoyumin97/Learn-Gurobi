{
 "cells": [
  {
   "cell_type": "code",
   "execution_count": null,
   "metadata": {
    "ExecuteTime": {
     "end_time": "2020-04-01T15:12:13.506435Z",
     "start_time": "2020-04-01T15:12:13.449469Z"
    }
   },
   "outputs": [],
   "source": [
    "import gurobipy as grb\n",
    "from gurobipy import *\n",
    "import numpy as np"
   ]
  },
  {
   "cell_type": "code",
   "execution_count": null,
   "metadata": {
    "ExecuteTime": {
     "end_time": "2020-04-01T16:18:06.260905Z",
     "start_time": "2020-04-01T16:18:06.237968Z"
    },
    "code_folding": [
     0
    ]
   },
   "outputs": [],
   "source": [
    "class SPP():\n",
    "    def __init__(self, num_intervals, num_pairs, num_links, impact_intervals):\n",
    "        self.num_intervals = num_intervals\n",
    "        self.num_pairs = num_pairs\n",
    "        self.num_links = num_links\n",
    "        self.imp_intervals = impact_intervals\n",
    "    \n",
    "    \n",
    "    def build_model(self, prior_od, prior_link, assignment_fraction, mcr):\n",
    "        \n",
    "        assert prior_od.shape == (self.num_intervals, self.num_pairs)\n",
    "        assert prior_link.shape == (self.num_intervals, self.num_links)\n",
    "        assert assignment_fraction.shape == (self.num_pairs, self.num_links, self.imp_intervals)\n",
    "        \n",
    "        # create model\n",
    "        spp = Model(\"SPP\")\n",
    "        \n",
    "        # create varibles\n",
    "        X = spp.addVars(['X_' + str(i) for i in range(self.num_intervals * self.num_pairs)],\n",
    "                        lb=0, obj=1, vtype=GRB.CONTINUOUS)\n",
    "        Y = spp.addVars(['Y_' + str(i) for i in range(self.num_intervals * self.num_links)],\n",
    "                        lb=0, obj=1, vtype=GRB.CONTINUOUS)\n",
    "        X = np.array(X.values()).reshape(self.num_intervals, self.num_pairs)\n",
    "        Y = np.array(Y.values()).reshape(self.num_intervals, self.num_links)\n",
    "        spp.update()\n",
    "        \n",
    "        # build objective\n",
    "        X_hat = prior_od\n",
    "        Y_hat = prior_link\n",
    "        X_var = np.var(prior_od)\n",
    "        Y_var = np.var(prior_link)\n",
    "        \n",
    "        obj = 0\n",
    "        for k in range(self.num_intervals):\n",
    "            for i in range(self.num_pairs):\n",
    "                obj += (X[k,i] - X_hat[k,i]) * (X[k,i] - X_hat[k,i]) / X_var\n",
    "        \n",
    "        for k in range(self.num_intervals):\n",
    "            for j in range(self.num_links):\n",
    "                obj += (Y[k,j] - Y_hat[k,j]) * (Y[k,j] - Y_hat[k,j]) / Y_var\n",
    "        \n",
    "        spp.setObjective(obj, GRB.MINIMIZE)\n",
    "        \n",
    "        # add constraints\n",
    "        # No.1: Linear Assignment\n",
    "        T = self.imp_intervals\n",
    "        A = assignment_fraction\n",
    "        for k in range(self.num_intervals):\n",
    "            t = 0\n",
    "            rhs = 0\n",
    "            while (k - t >= 0) & (t <= T):\n",
    "                rhs += (np.dot(X[k - t,:], A[:,:,t - 1])).reshape(1,self.num_links)\n",
    "                t += 1\n",
    "            for j in range(self.num_links):\n",
    "                spp.addConstr(Y[k,j] == rhs[0,j])\n",
    "        \n",
    "        # No.2: Maximum Change Ratio\n",
    "        beta = mcr\n",
    "        for k in range(1,self.num_intervals):\n",
    "            for i in range(self.num_pairs):\n",
    "                spp.addConstr(X[k,i] >= (1 - beta) * X[k - 1,i])\n",
    "                spp.addConstr(X[k,i] <= (1 + beta) * X[k - 1,i])\n",
    "        \n",
    "        return spp\n",
    "\n",
    "    \n",
    "    def estimate(self, prior_od, prior_link, assignment_fraction, mcr):\n",
    "        \n",
    "        spp = self.build_model(prior_od, prior_link, assignment_fraction, mcr)\n",
    "        spp.optimize()\n",
    "        \n",
    "        x_range = self.num_intervals * self.num_pairs\n",
    "        solution_x = [v.x for v in spp.getVars()[:x_range]]\n",
    "        solution_y = [v.x for v in spp.getVars()[x_range:]]\n",
    "        \n",
    "        return solution_x, solution_y"
   ]
  },
  {
   "cell_type": "code",
   "execution_count": null,
   "metadata": {
    "ExecuteTime": {
     "end_time": "2020-04-01T16:18:06.908403Z",
     "start_time": "2020-04-01T16:18:06.903386Z"
    }
   },
   "outputs": [],
   "source": [
    "prior_od = 5 + 5 * np.random.rand(num_intervals, num_pairs)\n",
    "prior_link = 100 + 10 * np.random.rand(num_intervals, num_links)\n",
    "prior_pr = np.random.rand(num_intervals, num_pairs)\n",
    "assignment_fraction = np.random.rand(num_pairs,num_links,impact_intervals)"
   ]
  },
  {
   "cell_type": "code",
   "execution_count": null,
   "metadata": {
    "ExecuteTime": {
     "end_time": "2020-04-01T16:01:19.942601Z",
     "start_time": "2020-04-01T16:01:19.935625Z"
    },
    "code_folding": [],
    "scrolled": true
   },
   "outputs": [],
   "source": [
    "# Create a new model\n",
    "PRA = Model(\"PRA\")\n",
    "\n",
    "# Create variables\n",
    "num_intervals = 18\n",
    "num_pairs = 120\n",
    "num_links = 4\n",
    "impact_intervals = 3 # 1 + (max travel time // interval length)\n",
    "\n",
    "x = PRA.addVars(['x_' + str(i) for i in range(num_pairs)], lb=0, obj=1, vtype=GRB.CONTINUOUS)\n",
    "y = PRA.addVars(['y_' + str(i) for i in range(num_links)],lb=0, obj=1, vtype=GRB.CONTINUOUS)\n",
    "z = PRA.addVars(['z_' + str(i) for i in range(num_pairs)],lb=0, obj=1, vtype=GRB.CONTINUOUS)\n",
    "t = PRA.addVars(['t_' + str(i) for i in range(num_pairs)],lb=0, ub=1, obj=1, vtype=GRB.CONTINUOUS)\n",
    "\n",
    "# Integrate new variables\n",
    "PRA.update()"
   ]
  },
  {
   "cell_type": "code",
   "execution_count": null,
   "metadata": {
    "ExecuteTime": {
     "end_time": "2020-04-01T15:59:32.213888Z",
     "start_time": "2020-04-01T15:59:32.000428Z"
    }
   },
   "outputs": [],
   "source": [
    "obj_term_od = x.values() - prior_od\n",
    "obj_term_od *= obj_term_od\n",
    "obj_term_link = y.values() - prior_link\n",
    "obj_term_link *= obj_term_link\n",
    "obj_term_pr = z.values() - prior_pr\n",
    "obj_term_pr *= obj_term_pr\n",
    "\n",
    "\n",
    "obj_term = 0\n",
    "for term in obj_term_od:\n",
    "    obj_term += term\n",
    "for term in obj_term_link:\n",
    "    obj_term += term\n",
    "for term in obj_term_pr:\n",
    "    obj_term += term\n",
    "\n",
    "# Set objective\n",
    "PRA.setObjective(obj_term, GRB.MINIMIZE)"
   ]
  },
  {
   "cell_type": "code",
   "execution_count": null,
   "metadata": {
    "ExecuteTime": {
     "end_time": "2020-04-01T15:12:19.336388Z",
     "start_time": "2020-04-01T15:12:17.965233Z"
    }
   },
   "outputs": [],
   "source": [
    "# Add constraints\n",
    "PRA.params.NonConvex = 2\n",
    "\n",
    "\n",
    "# Constraint #1: traffic assignment\n",
    "incidence_matrix = np.round(np.random.rand(len(x),len(y)))\n",
    "assignment_fraction = np.random.rand(len(x),len(y))\n",
    "for idx, yy in enumerate(y.values()):\n",
    "    rhs = x.values() * incidence_matrix[:,idx] * assignment_fraction[:,idx]\n",
    "    rhs_sum = 0\n",
    "    for term in rhs:\n",
    "        rhs_sum += term\n",
    "    PRA.addConstr(yy == rhs_sum)\n",
    "\n",
    "\n",
    "# Constraint #2: Penetration rate assignment\n",
    "for idx, xx in enumerate(x.values()):\n",
    "    upside = np.random.rand()\n",
    "    PRA.addConstr(t.values()[idx] * xx - upside <= 1)\n",
    "    PRA.addConstr(t.values()[idx] * xx - upside >= -1)\n",
    "\n",
    "incidence_matrix_pr = np.round(np.random.rand(len(t),len(z)))\n",
    "assignment_fraction_pr = np.random.rand(len(t),len(z))\n",
    "for idx, zz in enumerate(z.values()):\n",
    "    rhs = t.values() * incidence_matrix_pr[:,idx] * assignment_fraction_pr[:,idx]\n",
    "    rhs_sum = 0\n",
    "    for term in rhs:\n",
    "        rhs_sum += term\n",
    "    PRA.addConstr(zz - rhs_sum <= 0.5)\n",
    "    PRA.addConstr(zz - rhs_sum >= -0.5)"
   ]
  },
  {
   "cell_type": "code",
   "execution_count": null,
   "metadata": {
    "ExecuteTime": {
     "end_time": "2020-04-01T15:12:24.370000Z",
     "start_time": "2020-04-01T15:12:19.390333Z"
    }
   },
   "outputs": [],
   "source": [
    "PRA.optimize()"
   ]
  },
  {
   "cell_type": "code",
   "execution_count": null,
   "metadata": {
    "ExecuteTime": {
     "end_time": "2020-03-30T01:57:36.829989Z",
     "start_time": "2020-03-30T01:57:36.820013Z"
    }
   },
   "outputs": [],
   "source": [
    "solution_x = [v.x for v in PRA.getVars()[:num_pairs]]\n",
    "solution_y = [v.x for v in PRA.getVars()[num_pairs:(num_links + num_pairs)]]\n",
    "solution_z = [v.x for v in PRA.getVars()[(num_links + num_pairs):(num_links + 2 * num_pairs)]]"
   ]
  }
 ],
 "metadata": {
  "kernelspec": {
   "display_name": "Python 3",
   "language": "python",
   "name": "python3"
  },
  "language_info": {
   "codemirror_mode": {
    "name": "ipython",
    "version": 3
   },
   "file_extension": ".py",
   "mimetype": "text/x-python",
   "name": "python",
   "nbconvert_exporter": "python",
   "pygments_lexer": "ipython3",
   "version": "3.6.4rc1"
  },
  "latex_envs": {
   "LaTeX_envs_menu_present": true,
   "autoclose": false,
   "autocomplete": true,
   "bibliofile": "biblio.bib",
   "cite_by": "apalike",
   "current_citInitial": 1,
   "eqLabelWithNumbers": true,
   "eqNumInitial": 1,
   "hotkeys": {
    "equation": "Ctrl-E",
    "itemize": "Ctrl-I"
   },
   "labels_anchors": false,
   "latex_user_defs": false,
   "report_style_numbering": false,
   "user_envs_cfg": false
  },
  "toc": {
   "base_numbering": 1,
   "nav_menu": {},
   "number_sections": true,
   "sideBar": true,
   "skip_h1_title": false,
   "title_cell": "Table of Contents",
   "title_sidebar": "Contents",
   "toc_cell": false,
   "toc_position": {},
   "toc_section_display": true,
   "toc_window_display": false
  },
  "varInspector": {
   "cols": {
    "lenName": 16,
    "lenType": 16,
    "lenVar": 40
   },
   "kernels_config": {
    "python": {
     "delete_cmd_postfix": "",
     "delete_cmd_prefix": "del ",
     "library": "var_list.py",
     "varRefreshCmd": "print(var_dic_list())"
    },
    "r": {
     "delete_cmd_postfix": ") ",
     "delete_cmd_prefix": "rm(",
     "library": "var_list.r",
     "varRefreshCmd": "cat(var_dic_list()) "
    }
   },
   "types_to_exclude": [
    "module",
    "function",
    "builtin_function_or_method",
    "instance",
    "_Feature"
   ],
   "window_display": false
  }
 },
 "nbformat": 4,
 "nbformat_minor": 4
}
