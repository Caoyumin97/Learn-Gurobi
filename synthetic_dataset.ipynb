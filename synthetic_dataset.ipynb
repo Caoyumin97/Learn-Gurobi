{
 "cells": [
  {
   "cell_type": "markdown",
   "metadata": {},
   "source": [
    "# Libs"
   ]
  },
  {
   "cell_type": "code",
   "execution_count": null,
   "metadata": {
    "ExecuteTime": {
     "end_time": "2020-04-03T02:21:33.914740Z",
     "start_time": "2020-04-03T02:21:32.096483Z"
    }
   },
   "outputs": [],
   "source": [
    "import os\n",
    "import json\n",
    "import time\n",
    "import random\n",
    "import math\n",
    "import warnings\n",
    "from collections import Counter\n",
    "warnings.filterwarnings(\"ignore\")\n",
    "\n",
    "import numpy as np\n",
    "import pandas as pd\n",
    "\n",
    "import networkx as nx\n",
    "import matplotlib.pyplot as plt\n",
    "%matplotlib inline"
   ]
  },
  {
   "cell_type": "markdown",
   "metadata": {},
   "source": [
    "# Generate Road Network"
   ]
  },
  {
   "cell_type": "code",
   "execution_count": null,
   "metadata": {
    "ExecuteTime": {
     "end_time": "2020-04-03T02:26:46.288111Z",
     "start_time": "2020-04-03T02:26:46.255921Z"
    }
   },
   "outputs": [],
   "source": [
    "G = nx.generators.lattice.grid_graph(dim=[25, 40])\n",
    "for u, v in G.edges:\n",
    "    weight = 80 + 40 * np.random.rand()\n",
    "    G.add_edge(u, v, weight=weight)"
   ]
  },
  {
   "cell_type": "code",
   "execution_count": null,
   "metadata": {
    "ExecuteTime": {
     "end_time": "2020-04-03T02:27:37.891586Z",
     "start_time": "2020-04-03T02:26:48.262284Z"
    }
   },
   "outputs": [],
   "source": [
    "plt.rc(\"font\", family=\"Times New Roman\", size=5)\n",
    "plt.figure(figsize=(10, 10))\n",
    "nx.draw(\n",
    "    G, with_labels=False, node_size=20, node_color='k',\n",
    "    pos=nx.kamada_kawai_layout(G, weight=\"weight\")\n",
    ")\n",
    "plt.savefig(\"./TrafficGridNetwork.png\", dpi=300)"
   ]
  },
  {
   "cell_type": "markdown",
   "metadata": {},
   "source": [
    "# Generate OD Flow\n",
    "*selecting from path set"
   ]
  },
  {
   "cell_type": "code",
   "execution_count": null,
   "metadata": {
    "ExecuteTime": {
     "end_time": "2020-04-03T02:39:27.972413Z",
     "start_time": "2020-04-03T02:39:27.938504Z"
    }
   },
   "outputs": [],
   "source": [
    "def select_od_pairs(G, ratio):\n",
    "    # init node set\n",
    "    nodeSet = list(G.nodes)\n",
    "\n",
    "    # find max node idx\n",
    "    maxNode = 0\n",
    "    for idx, (u, v) in enumerate(nodeSet):\n",
    "        if u > maxNode:\n",
    "            maxNode = u\n",
    "\n",
    "    # add boundary nodes\n",
    "    odNode = nodeSet[:maxNode] + nodeSet[-maxNode:]\n",
    "    remainNodeSet = nodeSet[maxNode:-maxNode]\n",
    "\n",
    "    # randomly select a portion of remaining nodes\n",
    "    odNodeRemain = []\n",
    "    numRemain = int(ratio * len(remainNodeSet))\n",
    "    for i in range(numRemain):\n",
    "        node = random.choice(remainNodeSet)\n",
    "        remainNodeSet.remove(node)\n",
    "        odNodeRemain.append(node)\n",
    "\n",
    "    return odNode + odNodeRemain\n",
    "\n",
    "\n",
    "def expntl(lamda):\n",
    "    \"\"\"\n",
    "    negative exponential distribution\n",
    "    return a double random number, L is the mean value\n",
    "    \"\"\"\n",
    "    x = random.random()\n",
    "    return -lamda * math.log(x)\n",
    "\n",
    "\n",
    "def generate_od_demand_pattern(odNodeSet, mean=50):\n",
    "    odPairSet = [(u, v) for u in odNodeSet for v in odNodeSet if u != v]\n",
    "\n",
    "    odDemand = {}\n",
    "    for idx, pair in enumerate(odPairSet):\n",
    "        d = 6000\n",
    "        while d >= 6000:\n",
    "            d = int(expntl(mean))\n",
    "        odDemand[pair] = d\n",
    "    return odPairSet, odDemand\n",
    "\n",
    "\n",
    "def get_cost(G, path):\n",
    "    cost = 0\n",
    "    for idx, o_node in enumerate(path[:-1]):\n",
    "        d_node = path[idx + 1]\n",
    "        edgeCost = G.get_edge_data(o_node, d_node)[\"weight\"]\n",
    "        cost += edgeCost\n",
    "    return cost\n",
    "\n",
    "\n",
    "def generate_path_set(G, o_node, d_node):\n",
    "    pathSet = {}\n",
    "    for idx, path in enumerate(\n",
    "        nx.shortest_simple_paths(G, o_node, d_node, weight=\"weight\")\n",
    "    ):\n",
    "        if idx < 5:\n",
    "            cost = get_cost(G, path)\n",
    "            pathSet[idx] = {\"path\": path, \"cost\": cost}\n",
    "            # cost_list.append(cost)\n",
    "            # print(path,cost)\n",
    "        else:\n",
    "            break\n",
    "    return pathSet\n",
    "\n",
    "\n",
    "\n",
    "def sample_demand(odDemand, penetration):\n",
    "    nodePair_to_idx = {}\n",
    "    demandContainer = []\n",
    "    for idx, nodePair in enumerate(odDemand):\n",
    "        nodePair_to_idx[nodePair] = idx\n",
    "        demandContainer += np.tile(str(idx), odDemand[nodePair]).tolist()\n",
    "\n",
    "    sampleDemand = np.sum(list(odDemand.values())) * penetration\n",
    "    return np.random.choice(demandContainer,size = int(sampleDemand))"
   ]
  },
  {
   "cell_type": "code",
   "execution_count": null,
   "metadata": {
    "ExecuteTime": {
     "end_time": "2020-04-03T02:39:30.086604Z",
     "start_time": "2020-04-03T02:39:29.125710Z"
    }
   },
   "outputs": [],
   "source": [
    "odNodeSet = select_od_pairs(G, ratio=0.025)\n",
    "numOdPair = len(odNodeSet) * (len(odNodeSet) - 1)\n",
    "print(\n",
    "    \"There are {:d} OD node and {:d} pairs in total.\".format(len(odNodeSet),\n",
    "                                                             numOdPair)\n",
    ")\n",
    "\n",
    "odPairSet, odDemand = generate_od_demand_pattern(odNodeSet, mean= 144 * 10)\n",
    "sampleDemand = sample_demand(odDemand, penetration = 0.05)\n",
    "\n",
    "with open('./sampleDemand.json','w') as f:\n",
    "    json.dump(dict(Counter(sampleDemand)),f)"
   ]
  },
  {
   "cell_type": "code",
   "execution_count": null,
   "metadata": {
    "ExecuteTime": {
     "end_time": "2020-04-03T02:38:29.222995Z",
     "start_time": "2020-04-03T02:37:40.474Z"
    }
   },
   "outputs": [],
   "source": [
    "x = np.arange(144)\n",
    "deno = np.sum(1 * np.sin(np.pi / 144 * x))\n",
    "nume = np.sin(np.pi / 144 * x)\n",
    "frac = nume / deno"
   ]
  },
  {
   "cell_type": "code",
   "execution_count": null,
   "metadata": {
    "ExecuteTime": {
     "end_time": "2020-04-03T02:34:50.457520Z",
     "start_time": "2020-04-03T02:34:50.316764Z"
    }
   },
   "outputs": [],
   "source": [
    "frac_tile = np.tile(frac,(numOdPair,1)).T\n",
    "demand_tile = np.tile(np.array(list(odDemand.values())), (144,1))\n",
    "od_flow = np.round(frac_tile * demand_tile)"
   ]
  },
  {
   "cell_type": "code",
   "execution_count": null,
   "metadata": {
    "ExecuteTime": {
     "end_time": "2020-04-03T02:36:36.912087Z",
     "start_time": "2020-04-03T02:36:32.843312Z"
    }
   },
   "outputs": [],
   "source": [
    "month_od_flow = np.zeros((30,od_flow.shape[0],od_flow.shape[1]))\n",
    "for day in range(30):\n",
    "    od_flow_new_day = od_flow + np.random.normal(0,1,od_flow.shape)\n",
    "    month_od_flow[day] = np.round(np.abs(od_flow_new_day))"
   ]
  },
  {
   "cell_type": "code",
   "execution_count": null,
   "metadata": {
    "ExecuteTime": {
     "end_time": "2020-04-03T02:36:37.882451Z",
     "start_time": "2020-04-03T02:36:37.703144Z"
    }
   },
   "outputs": [],
   "source": [
    "import seaborn as sns\n",
    "\n",
    "sns.distplot(month_od_flow[0].sum(axis=0))"
   ]
  },
  {
   "cell_type": "code",
   "execution_count": null,
   "metadata": {
    "ExecuteTime": {
     "end_time": "2020-04-02T13:56:34.246621Z",
     "start_time": "2020-04-02T13:56:33.250826Z"
    }
   },
   "outputs": [],
   "source": [
    "np.save('y_test.npy',month_od_flow)"
   ]
  },
  {
   "cell_type": "code",
   "execution_count": null,
   "metadata": {
    "ExecuteTime": {
     "end_time": "2020-04-02T14:39:28.665982Z",
     "start_time": "2020-04-02T14:39:27.650696Z"
    }
   },
   "outputs": [],
   "source": [
    "penetration = 0.05\n",
    "y_test = month_od_flow.copy()\n",
    "y_train = np.round(np.abs((y_test * penetration) + np.random.normal(0,1,y_test.shape)))\n",
    "np.save('y_train.npy',y_train)"
   ]
  },
  {
   "cell_type": "code",
   "execution_count": null,
   "metadata": {
    "ExecuteTime": {
     "end_time": "2020-04-02T14:39:14.254549Z",
     "start_time": "2020-04-02T14:39:14.179462Z"
    }
   },
   "outputs": [],
   "source": [
    "clear X"
   ]
  },
  {
   "cell_type": "markdown",
   "metadata": {},
   "source": [
    "# Path & Network effect analysis"
   ]
  },
  {
   "cell_type": "code",
   "execution_count": null,
   "metadata": {
    "ExecuteTime": {
     "end_time": "2020-04-02T13:26:18.260604Z",
     "start_time": "2020-04-02T13:26:18.240688Z"
    }
   },
   "outputs": [],
   "source": [
    "num_trip = 100\n",
    "PATH = {}\n",
    "sp = time.time()\n",
    "for idx in range(num_trip):\n",
    "    o_node = generate_node(G)\n",
    "    d_node = generate_node(G)\n",
    "    if o_node == d_node:\n",
    "        continue\n",
    "    pathSet = generate_path_set(G, o_node, d_node)\n",
    "\n",
    "    PATH[str(o_node) + str(d_node)] = pathSet\n",
    "ep = time.time()\n",
    "print(\"[Timer] Duration: {:.2f}\".format(ep - sp))"
   ]
  },
  {
   "cell_type": "code",
   "execution_count": null,
   "metadata": {},
   "outputs": [],
   "source": [
    "with open(\"./PATH.json\", \"w\") as f:\n",
    "    json.dump(PATH, f)"
   ]
  }
 ],
 "metadata": {
  "kernelspec": {
   "display_name": "Python 3",
   "language": "python",
   "name": "python3"
  },
  "language_info": {
   "codemirror_mode": {
    "name": "ipython",
    "version": 3
   },
   "file_extension": ".py",
   "mimetype": "text/x-python",
   "name": "python",
   "nbconvert_exporter": "python",
   "pygments_lexer": "ipython3",
   "version": "3.6.4rc1"
  },
  "latex_envs": {
   "LaTeX_envs_menu_present": true,
   "autoclose": false,
   "autocomplete": true,
   "bibliofile": "biblio.bib",
   "cite_by": "apalike",
   "current_citInitial": 1,
   "eqLabelWithNumbers": true,
   "eqNumInitial": 1,
   "hotkeys": {
    "equation": "Ctrl-E",
    "itemize": "Ctrl-I"
   },
   "labels_anchors": false,
   "latex_user_defs": false,
   "report_style_numbering": false,
   "user_envs_cfg": false
  },
  "toc": {
   "base_numbering": 1,
   "nav_menu": {},
   "number_sections": true,
   "sideBar": true,
   "skip_h1_title": false,
   "title_cell": "Table of Contents",
   "title_sidebar": "Contents",
   "toc_cell": false,
   "toc_position": {},
   "toc_section_display": true,
   "toc_window_display": false
  },
  "varInspector": {
   "cols": {
    "lenName": 16,
    "lenType": 16,
    "lenVar": 40
   },
   "kernels_config": {
    "python": {
     "delete_cmd_postfix": "",
     "delete_cmd_prefix": "del ",
     "library": "var_list.py",
     "varRefreshCmd": "print(var_dic_list())"
    },
    "r": {
     "delete_cmd_postfix": ") ",
     "delete_cmd_prefix": "rm(",
     "library": "var_list.r",
     "varRefreshCmd": "cat(var_dic_list()) "
    }
   },
   "types_to_exclude": [
    "module",
    "function",
    "builtin_function_or_method",
    "instance",
    "_Feature"
   ],
   "window_display": false
  }
 },
 "nbformat": 4,
 "nbformat_minor": 4
}
