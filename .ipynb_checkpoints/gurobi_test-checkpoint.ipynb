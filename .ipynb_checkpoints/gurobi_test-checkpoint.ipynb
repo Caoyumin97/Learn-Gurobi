{
 "cells": [
  {
   "cell_type": "code",
   "execution_count": null,
   "metadata": {
    "ExecuteTime": {
     "end_time": "2020-04-02T03:12:00.752813Z",
     "start_time": "2020-04-02T03:12:00.727910Z"
    }
   },
   "outputs": [],
   "source": [
    "import gurobipy as grb\n",
    "from gurobipy import *\n",
    "import numpy as np\n",
    "import geatpy"
   ]
  },
  {
   "cell_type": "code",
   "execution_count": null,
   "metadata": {
    "ExecuteTime": {
     "end_time": "2020-04-02T03:12:01.297389Z",
     "start_time": "2020-04-02T03:12:01.254102Z"
    },
    "code_folding": [
     0
    ]
   },
   "outputs": [],
   "source": [
    "class SPP():\n",
    "    def __init__(self, num_intervals, num_pairs, num_links, impact_intervals):\n",
    "        self.num_intervals = num_intervals\n",
    "        self.num_pairs = num_pairs\n",
    "        self.num_links = num_links\n",
    "        self.imp_intervals = impact_intervals\n",
    "    \n",
    "    \n",
    "    def build_model(self, prior_od, prior_link, assignment_fraction, mcr):\n",
    "        \n",
    "        assert prior_od.shape == (self.num_intervals, self.num_pairs)\n",
    "        assert prior_link.shape == (self.num_intervals, self.num_links)\n",
    "        assert assignment_fraction.shape == (self.num_pairs, self.num_links, self.imp_intervals)\n",
    "        \n",
    "        # create model\n",
    "        spp = Model(\"SPP\")\n",
    "        \n",
    "        # create varibles\n",
    "        X = spp.addVars(['X_' + str(i) for i in range(self.num_intervals * self.num_pairs)],\n",
    "                        lb=0, obj=1, vtype=GRB.CONTINUOUS)\n",
    "        Y = spp.addVars(['Y_' + str(i) for i in range(self.num_intervals * self.num_links)],\n",
    "                        lb=0, obj=1, vtype=GRB.CONTINUOUS)\n",
    "        X = np.array(X.values()).reshape(self.num_intervals, self.num_pairs)\n",
    "        Y = np.array(Y.values()).reshape(self.num_intervals, self.num_links)\n",
    "        spp.update()\n",
    "        \n",
    "        # build objective\n",
    "        X_hat = prior_od\n",
    "        Y_hat = prior_link\n",
    "        X_var = np.var(prior_od)\n",
    "        Y_var = np.var(prior_link)\n",
    "        \n",
    "        obj = 0\n",
    "        for k in range(self.num_intervals):\n",
    "            for i in range(self.num_pairs):\n",
    "                obj += (X[k,i] - X_hat[k,i]) * (X[k,i] - X_hat[k,i]) / X_var\n",
    "        \n",
    "        for k in range(self.num_intervals):\n",
    "            for j in range(self.num_links):\n",
    "                obj += (Y[k,j] - Y_hat[k,j]) * (Y[k,j] - Y_hat[k,j]) / Y_var\n",
    "        \n",
    "        spp.setObjective(obj, GRB.MINIMIZE)\n",
    "        \n",
    "        # add constraints\n",
    "        # No.1: Linear Assignment\n",
    "        T = self.imp_intervals\n",
    "        A = assignment_fraction\n",
    "        for k in range(self.num_intervals):\n",
    "            t = 0\n",
    "            rhs = 0\n",
    "            while (k - t >= 0) & (t <= T):\n",
    "                rhs += (np.dot(X[k - t,:], A[:,:,t - 1])).reshape(1,self.num_links)\n",
    "                t += 1\n",
    "            for j in range(self.num_links):\n",
    "                spp.addConstr(Y[k,j] == rhs[0,j])\n",
    "        \n",
    "        # No.2: Maximum Change Ratio\n",
    "        beta = mcr\n",
    "        for k in range(1,self.num_intervals):\n",
    "            for i in range(self.num_pairs):\n",
    "                spp.addConstr(X[k,i] >= (1 - beta) * X[k - 1,i])\n",
    "                spp.addConstr(X[k,i] <= (1 + beta) * X[k - 1,i])\n",
    "        \n",
    "        return spp\n",
    "\n",
    "    \n",
    "    def estimate(self, prior_od, prior_link, assignment_fraction, mcr):\n",
    "        \n",
    "        spp = self.build_model(prior_od, prior_link, assignment_fraction, mcr)\n",
    "        spp.optimize()\n",
    "        \n",
    "        x_range = self.num_intervals * self.num_pairs\n",
    "        solution_x = [v.x for v in spp.getVars()[:x_range]]\n",
    "        solution_y = [v.x for v in spp.getVars()[x_range:]]\n",
    "        \n",
    "        return solution_x, solution_y"
   ]
  },
  {
   "cell_type": "code",
   "execution_count": null,
   "metadata": {
    "ExecuteTime": {
     "end_time": "2020-04-02T03:12:01.647843Z",
     "start_time": "2020-04-02T03:12:01.588286Z"
    },
    "code_folding": []
   },
   "outputs": [],
   "source": [
    "class PRA():\n",
    "    def __init__(self, num_intervals, num_pairs, num_links, impact_intervals):\n",
    "        self.num_intervals = num_intervals\n",
    "        self.num_pairs = num_pairs\n",
    "        self.num_links = num_links\n",
    "        self.imp_intervals = impact_intervals\n",
    "    \n",
    "    \n",
    "    def build_model(self, prior_od, prior_link, prior_pr, probe_od, assignment_fraction, assignment_fraction_pr, mcr):\n",
    "        \n",
    "        assert prior_od.shape == (self.num_intervals, self.num_pairs)\n",
    "        assert prior_link.shape == (self.num_intervals, self.num_links)\n",
    "        assert prior_pr.shape == (self.num_intervals, self.num_links)\n",
    "        assert probe_od.shape == (self.num_intervals, self.num_pairs)\n",
    "        assert assignment_fraction.shape == (self.num_pairs, self.num_links, self.imp_intervals)\n",
    "        assert assignment_fraction_pr.shape == (self.num_pairs, self.num_links, self.imp_intervals)\n",
    "        \n",
    "        # create model\n",
    "        pra = Model(\"PRA\")\n",
    "        \n",
    "        # create varibles\n",
    "        X = pra.addVars(['X_' + str(i) for i in range(self.num_intervals * self.num_pairs)],\n",
    "                        lb=0, obj=1, vtype=GRB.CONTINUOUS)\n",
    "        Y = pra.addVars(['Y_' + str(i) for i in range(self.num_intervals * self.num_links)],\n",
    "                        lb=0, obj=1, vtype=GRB.CONTINUOUS)\n",
    "        Theta = pra.addVars(['T_' + str(i) for i in range(self.num_intervals * self.num_links)],\n",
    "                        lb=0, ub=1, obj=1, vtype=GRB.CONTINUOUS)\n",
    "        H = pra.addVars(['H_' + str(i) for i in range(self.num_intervals * self.num_pairs)],\n",
    "                        lb=0, ub=1, obj=1, vtype=GRB.CONTINUOUS)\n",
    "        X = np.array(X.values()).reshape(self.num_intervals, self.num_pairs)\n",
    "        Y = np.array(Y.values()).reshape(self.num_intervals, self.num_links)\n",
    "        Theta = np.array(Theta.values()).reshape(self.num_intervals, self.num_links)\n",
    "        H = np.array(H.values()).reshape(self.num_intervals, self.num_pairs)\n",
    "        pra.update()\n",
    "        \n",
    "        # build objective\n",
    "        X_hat = prior_od\n",
    "        Y_hat = prior_link\n",
    "        Theta_hat = prior_pr # OD penetration rates\n",
    "        X_var = np.var(X_hat)\n",
    "        Y_var = np.var(Y_hat)\n",
    "        Theta_var = np.var(Theta_hat)\n",
    "        \n",
    "        obj = 0\n",
    "        for k in range(self.num_intervals):\n",
    "            for i in range(self.num_pairs):\n",
    "                obj += (X[k,i] - X_hat[k,i]) * (X[k,i] - X_hat[k,i]) / X_var\n",
    "        \n",
    "        for k in range(self.num_intervals):\n",
    "            for j in range(self.num_links):\n",
    "                obj += (Y[k,j] - Y_hat[k,j]) * (Y[k,j] - Y_hat[k,j]) / Y_var\n",
    "                obj += (Theta[k,j] - Theta_hat[k,j]) * (Theta[k,j] - Theta_hat[k,j]) / Theta_var\n",
    "        \n",
    "        pra.setObjective(obj, GRB.MINIMIZE)\n",
    "        \n",
    "        # add constraints\n",
    "        # No.1: Linear Assignment\n",
    "        T = self.imp_intervals\n",
    "        A = assignment_fraction\n",
    "        for k in range(self.num_intervals):\n",
    "            t = 0\n",
    "            rhs = 0\n",
    "            while (k - t >= 0) & (t <= T):\n",
    "                rhs += (np.dot(X[k - t,:], A[:,:,t - 1])).reshape(1,self.num_links)\n",
    "                t += 1\n",
    "            for j in range(self.num_links):\n",
    "                pra.addConstr(0.9 * Y[k,j] <= rhs[0,j])\n",
    "                pra.addConstr(1.9 * Y[k,j] >= rhs[0,j])\n",
    "        \n",
    "        # No.2: Penetration Rate Assignment\n",
    "        Z = probe_od\n",
    "        Rho = assignment_fraction_pr\n",
    "        for k in range(self.num_intervals):\n",
    "            for i in range(self.num_pairs):\n",
    "                pra.addConstr(X[k,i] * H[k,i] == Z[k,i])\n",
    "        \n",
    "        for k in range(self.num_intervals):\n",
    "            t = 0\n",
    "            rhs = 0\n",
    "            while (k - t >= 0) & (t <= T):\n",
    "                rhs += (np.dot(H[k - t,:], Rho[:,:,t - 1])).reshape(1,self.num_links)\n",
    "                t += 1\n",
    "            for j in range(self.num_links):\n",
    "                pra.addConstr(0.9 * Theta[k,j] <= rhs[0,j])\n",
    "                pra.addConstr(1.1 * Theta[k,j] >= rhs[0,j])\n",
    "        \n",
    "        # No.3: Maximum Change Ratio\n",
    "        beta = mcr\n",
    "        for k in range(1,self.num_intervals):\n",
    "            for i in range(self.num_pairs):\n",
    "                pra.addConstr(X[k,i] >= (1 - beta) * X[k - 1,i])\n",
    "                pra.addConstr(X[k,i] <= (1 + beta) * X[k - 1,i])\n",
    "        \n",
    "        return pra\n",
    "\n",
    "    \n",
    "    def estimate(self, prior_od, prior_link, prior_pr, probe_od, assignment_fraction, assignment_fraction_pr, mcr):\n",
    "        \n",
    "        pra = self.build_model(prior_od, prior_link, prior_pr, probe_od, assignment_fraction, assignment_fraction_pr, mcr)\n",
    "        pra.params.NonConvex = 2\n",
    "        pra.optimize()\n",
    "        \n",
    "        x_range = self.num_intervals * self.num_pairs\n",
    "        y_range = self.num_intervals * (self.num_pairs + self.num_links)\n",
    "        t_range = self.num_intervals * (self.num_pairs + 2 * self.num_links)\n",
    "        solution_x = [v.x for v in pra.getVars()[:x_range]]\n",
    "        solution_y = [v.x for v in pra.getVars()[x_range:y_range]]\n",
    "        solution_t = [v.x for v in pra.getVars()[y_range:t_range]]\n",
    "        solution_h = [v.x for v in pra.getVars()[t_range:]]\n",
    "        \n",
    "        return solution_x, solution_y, solution_t, solution_h"
   ]
  },
  {
   "cell_type": "code",
   "execution_count": null,
   "metadata": {
    "ExecuteTime": {
     "end_time": "2020-04-02T03:12:02.504337Z",
     "start_time": "2020-04-02T03:12:02.489998Z"
    }
   },
   "outputs": [],
   "source": [
    "# params init\n",
    "num_intervals = 18\n",
    "num_pairs = 120\n",
    "num_links = 4\n",
    "impact_intervals = 3\n",
    "\n",
    "# prior information\n",
    "prior_od = 10 + 5 * np.random.rand(num_intervals, num_pairs)\n",
    "prior_link = 100 + 10 * np.random.rand(num_intervals, num_links)\n",
    "prior_pr = 0.1 + 0.02 * np.random.normal(0,1,(num_intervals, num_links))\n",
    "probe_od = 1 + 1 * np.random.rand(num_intervals, num_pairs)\n",
    "assignment_fraction = np.random.rand(num_pairs,num_links,impact_intervals)\n",
    "assignment_fraction_pr = np.random.rand(num_pairs,num_links,impact_intervals)"
   ]
  },
  {
   "cell_type": "code",
   "execution_count": null,
   "metadata": {
    "ExecuteTime": {
     "end_time": "2020-04-02T03:12:38.160302Z",
     "start_time": "2020-04-02T03:12:37.264066Z"
    }
   },
   "outputs": [],
   "source": [
    "spp = SPP(num_intervals, num_pairs, num_links, impact_intervals)\n",
    "x, y = spp.estimate(prior_od, prior_link,assignment_fraction, 0.2)"
   ]
  }
 ],
 "metadata": {
  "kernelspec": {
   "display_name": "Python 3",
   "language": "python",
   "name": "python3"
  },
  "language_info": {
   "codemirror_mode": {
    "name": "ipython",
    "version": 3
   },
   "file_extension": ".py",
   "mimetype": "text/x-python",
   "name": "python",
   "nbconvert_exporter": "python",
   "pygments_lexer": "ipython3",
   "version": "3.6.4rc1"
  },
  "latex_envs": {
   "LaTeX_envs_menu_present": true,
   "autoclose": false,
   "autocomplete": true,
   "bibliofile": "biblio.bib",
   "cite_by": "apalike",
   "current_citInitial": 1,
   "eqLabelWithNumbers": true,
   "eqNumInitial": 1,
   "hotkeys": {
    "equation": "Ctrl-E",
    "itemize": "Ctrl-I"
   },
   "labels_anchors": false,
   "latex_user_defs": false,
   "report_style_numbering": false,
   "user_envs_cfg": false
  },
  "toc": {
   "base_numbering": 1,
   "nav_menu": {},
   "number_sections": true,
   "sideBar": true,
   "skip_h1_title": false,
   "title_cell": "Table of Contents",
   "title_sidebar": "Contents",
   "toc_cell": false,
   "toc_position": {},
   "toc_section_display": true,
   "toc_window_display": false
  },
  "varInspector": {
   "cols": {
    "lenName": 16,
    "lenType": 16,
    "lenVar": 40
   },
   "kernels_config": {
    "python": {
     "delete_cmd_postfix": "",
     "delete_cmd_prefix": "del ",
     "library": "var_list.py",
     "varRefreshCmd": "print(var_dic_list())"
    },
    "r": {
     "delete_cmd_postfix": ") ",
     "delete_cmd_prefix": "rm(",
     "library": "var_list.r",
     "varRefreshCmd": "cat(var_dic_list()) "
    }
   },
   "types_to_exclude": [
    "module",
    "function",
    "builtin_function_or_method",
    "instance",
    "_Feature"
   ],
   "window_display": false
  }
 },
 "nbformat": 4,
 "nbformat_minor": 4
}
