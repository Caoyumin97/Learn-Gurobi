{
 "cells": [
  {
   "cell_type": "code",
   "execution_count": null,
   "metadata": {
    "ExecuteTime": {
     "end_time": "2020-03-30T01:57:31.073536Z",
     "start_time": "2020-03-30T01:57:30.988613Z"
    }
   },
   "outputs": [],
   "source": [
    "import gurobipy as grb\n",
    "from gurobipy import *\n",
    "import numpy as np"
   ]
  },
  {
   "cell_type": "code",
   "execution_count": null,
   "metadata": {
    "ExecuteTime": {
     "end_time": "2020-03-30T01:57:31.093362Z",
     "start_time": "2020-03-30T01:57:31.077375Z"
    },
    "scrolled": true
   },
   "outputs": [],
   "source": [
    "# Create a new model\n",
    "PRA = Model(\"PRA\")\n",
    "\n",
    "# Create variables\n",
    "num_pairs = 297\n",
    "num_links = 15\n",
    "\n",
    "x = PRA.addVars(['x_' + str(i) for i in range(num_pairs)], lb=0, obj=1, vtype=GRB.CONTINUOUS)\n",
    "y = PRA.addVars(['y_' + str(i) for i in range(num_links)],lb=0, obj=1, vtype=GRB.CONTINUOUS)\n",
    "z = PRA.addVars(['z_' + str(i) for i in range(num_pairs)],lb=0, obj=1, vtype=GRB.CONTINUOUS)\n",
    "t = PRA.addVars(['t_' + str(i) for i in range(num_pairs)],lb=0, ub=1, obj=1, vtype=GRB.CONTINUOUS)\n",
    "\n",
    "# Integrate new variables\n",
    "PRA.update()"
   ]
  },
  {
   "cell_type": "code",
   "execution_count": null,
   "metadata": {
    "ExecuteTime": {
     "end_time": "2020-03-30T01:57:31.117268Z",
     "start_time": "2020-03-30T01:57:31.097321Z"
    }
   },
   "outputs": [],
   "source": [
    "prior_od = 5 + 5 * np.random.rand(num_pairs)\n",
    "prior_link = 10 + 10 * np.random.rand(num_links)\n",
    "prior_pr = 1 + np.random.rand(num_pairs)\n",
    "\n",
    "obj_term_od = x.values() - prior_od\n",
    "obj_term_od *= obj_term_od\n",
    "obj_term_link = y.values() - prior_link\n",
    "obj_term_link *= obj_term_link\n",
    "obj_term_pr = z.values() - prior_pr\n",
    "obj_term_pr *= obj_term_pr\n",
    "\n",
    "\n",
    "obj_term = 0\n",
    "for term in obj_term_od:\n",
    "    obj_term += term\n",
    "for term in obj_term_link:\n",
    "    obj_term += term\n",
    "for term in obj_term_pr:\n",
    "    obj_term += term\n",
    "\n",
    "# Set objective\n",
    "PRA.setObjective(obj_term, GRB.MINIMIZE)"
   ]
  },
  {
   "cell_type": "code",
   "execution_count": null,
   "metadata": {
    "ExecuteTime": {
     "end_time": "2020-03-30T01:57:32.442771Z",
     "start_time": "2020-03-30T01:57:31.118298Z"
    }
   },
   "outputs": [],
   "source": [
    "# Add constraints\n",
    "PRA.params.NonConvex = 2\n",
    "\n",
    "\n",
    "# Constraint #1: traffic assignment\n",
    "incidence_matrix = np.round(np.random.rand(len(x),len(y)))\n",
    "assignment_fraction = np.random.rand(len(x),len(y))\n",
    "for idx, yy in enumerate(y.values()):\n",
    "    rhs = x.values() * incidence_matrix[:,idx] * assignment_fraction[:,idx]\n",
    "    rhs_sum = 0\n",
    "    for term in rhs:\n",
    "        rhs_sum += term\n",
    "    PRA.addConstr(yy == rhs_sum)\n",
    "\n",
    "\n",
    "# Constraint #2: Penetration rate assignment\n",
    "for idx, xx in enumerate(x.values()):\n",
    "    upside = np.random.rand()\n",
    "    PRA.addConstr(t.values()[idx] * xx - upside <= 1)\n",
    "    PRA.addConstr(t.values()[idx] * xx - upside >= -1)\n",
    "\n",
    "incidence_matrix_pr = np.round(np.random.rand(len(t),len(z)))\n",
    "assignment_fraction_pr = np.random.rand(len(t),len(z))\n",
    "for idx, zz in enumerate(z.values()):\n",
    "    rhs = t.values() * incidence_matrix_pr[:,idx] * assignment_fraction_pr[:,idx]\n",
    "    rhs_sum = 0\n",
    "    for term in rhs:\n",
    "        rhs_sum += term\n",
    "    PRA.addConstr(zz - rhs_sum <= 0.5)\n",
    "    PRA.addConstr(zz - rhs_sum >= -0.5)"
   ]
  },
  {
   "cell_type": "code",
   "execution_count": null,
   "metadata": {
    "ExecuteTime": {
     "end_time": "2020-03-30T01:57:36.816026Z",
     "start_time": "2020-03-30T01:57:32.443717Z"
    }
   },
   "outputs": [],
   "source": [
    "PRA.optimize()"
   ]
  },
  {
   "cell_type": "code",
   "execution_count": null,
   "metadata": {
    "ExecuteTime": {
     "end_time": "2020-03-30T01:57:36.829989Z",
     "start_time": "2020-03-30T01:57:36.820013Z"
    }
   },
   "outputs": [],
   "source": [
    "solution_x = [v.x for v in PRA.getVars()[:num_pairs]]\n",
    "solution_y = [v.x for v in PRA.getVars()[num_pairs:(num_links + num_pairs)]]\n",
    "solution_z = [v.x for v in PRA.getVars()[(num_links + num_pairs):(num_links + 2 * num_pairs)]]"
   ]
  }
 ],
 "metadata": {
  "kernelspec": {
   "display_name": "Python 3",
   "language": "python",
   "name": "python3"
  },
  "language_info": {
   "codemirror_mode": {
    "name": "ipython",
    "version": 3
   },
   "file_extension": ".py",
   "mimetype": "text/x-python",
   "name": "python",
   "nbconvert_exporter": "python",
   "pygments_lexer": "ipython3",
   "version": "3.6.4rc1"
  },
  "latex_envs": {
   "LaTeX_envs_menu_present": true,
   "autoclose": false,
   "autocomplete": true,
   "bibliofile": "biblio.bib",
   "cite_by": "apalike",
   "current_citInitial": 1,
   "eqLabelWithNumbers": true,
   "eqNumInitial": 1,
   "hotkeys": {
    "equation": "Ctrl-E",
    "itemize": "Ctrl-I"
   },
   "labels_anchors": false,
   "latex_user_defs": false,
   "report_style_numbering": false,
   "user_envs_cfg": false
  },
  "toc": {
   "base_numbering": 1,
   "nav_menu": {},
   "number_sections": true,
   "sideBar": true,
   "skip_h1_title": false,
   "title_cell": "Table of Contents",
   "title_sidebar": "Contents",
   "toc_cell": false,
   "toc_position": {},
   "toc_section_display": true,
   "toc_window_display": false
  },
  "varInspector": {
   "cols": {
    "lenName": 16,
    "lenType": 16,
    "lenVar": 40
   },
   "kernels_config": {
    "python": {
     "delete_cmd_postfix": "",
     "delete_cmd_prefix": "del ",
     "library": "var_list.py",
     "varRefreshCmd": "print(var_dic_list())"
    },
    "r": {
     "delete_cmd_postfix": ") ",
     "delete_cmd_prefix": "rm(",
     "library": "var_list.r",
     "varRefreshCmd": "cat(var_dic_list()) "
    }
   },
   "types_to_exclude": [
    "module",
    "function",
    "builtin_function_or_method",
    "instance",
    "_Feature"
   ],
   "window_display": false
  }
 },
 "nbformat": 4,
 "nbformat_minor": 4
}
